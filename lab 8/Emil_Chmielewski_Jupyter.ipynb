{
 "cells": [
  {
   "cell_type": "code",
   "execution_count": 8,
   "metadata": {},
   "outputs": [],
   "source": [
    "import numpy as np\n",
    "import pandas as pd\n",
    "from statsmodels.tsa.stattools import grangercausalitytests\n",
    "from statsmodels.tsa.stattools import adfuller"
   ]
  },
  {
   "cell_type": "markdown",
   "metadata": {},
   "source": [
    "# Ex. 1: Stationarity of wage growth and inflation data"
   ]
  },
  {
   "cell_type": "markdown",
   "metadata": {},
   "source": [
    "### Checking stationarity in a loop"
   ]
  },
  {
   "cell_type": "code",
   "execution_count": 9,
   "metadata": {},
   "outputs": [
    {
     "name": "stdout",
     "output_type": "stream",
     "text": [
      "Time series 0 not stationary after 0 differentials.\n",
      "Time series 1 not stationary after 1 differentials.\n",
      "All time series stationary after 2 differentials.\n"
     ]
    }
   ],
   "source": [
    "#import data\n",
    "df = pd.read_csv('Mehra.csv', index_col='date', parse_dates=True)\n",
    "\n",
    "#parameter to check if all time series stationary\n",
    "z = 1\n",
    "\n",
    "#loop to difference\n",
    "for i in range(0, 100):\n",
    "\n",
    "    #check every time series\n",
    "    for j in range(0, 8):\n",
    "\n",
    "        #calculate adfuller to check for stationarity\n",
    "        ad = adfuller(df.iloc[:, j])\n",
    "\n",
    "        #if p is too high time series is non-stationary\n",
    "        if(ad[1] > 0.05):\n",
    "            z = 0\n",
    "            print('Time series ' + str(j) + ' not stationary after ' + str(i) + ' differentials.')\n",
    "            break\n",
    "\n",
    "        #else keep going\n",
    "        else:\n",
    "            z += 1\n",
    "    \n",
    "    #if we exited with break one of time series wasn't statinary, need to difference again\n",
    "    if(z == 0):\n",
    "        df = df.diff().dropna()\n",
    "\n",
    "    #else all time series stationary\n",
    "    else:\n",
    "        print('All time series stationary after ' + str(i) + \" differentials.\")\n",
    "        break"
   ]
  },
  {
   "cell_type": "markdown",
   "metadata": {},
   "source": [
    "# Ex. 2: Granger Causality Matrix"
   ]
  },
  {
   "cell_type": "code",
   "execution_count": 10,
   "metadata": {},
   "outputs": [],
   "source": [
    "def GrangerMatrix(df, cols, lags):\n",
    "    #matrix filled with zeroes for results\n",
    "    res = pd.DataFrame(np.zeros((len(cols), len(cols))), columns = cols, index = cols)\n",
    "\n",
    "    #loop for columns\n",
    "    for i in cols:\n",
    "\n",
    "        #loop for rows\n",
    "        for j in cols:\n",
    "\n",
    "            #run the test, verbose cancels the printing of results\n",
    "            test = grangercausalitytests(df[[j, i]], maxlag = lags, verbose = False)\n",
    "\n",
    "            #set minimum value to 1 at the start\n",
    "            p_min = 1\n",
    "\n",
    "            #finding the lowest value of p\n",
    "            for k in range(lags):\n",
    "\n",
    "                #if current p is lower than prevoius minimum, change it to new minimum\n",
    "                if(test[k + 1][0]['ssr_chi2test'][1] < p_min):\n",
    "                    p_min = test[k + 1][0]['ssr_chi2test'][1]\n",
    "\n",
    "            #found the minimal p, set it to the field for corresponding time series in the matrix\n",
    "            res.loc[j, i] = p_min\n",
    "\n",
    "    #return the matrix\n",
    "    return res"
   ]
  },
  {
   "cell_type": "code",
   "execution_count": 11,
   "metadata": {},
   "outputs": [
    {
     "name": "stdout",
     "output_type": "stream",
     "text": [
      "           rgnp          pgnp           ulc     gdfco           gdf     gdfim  \\\n",
      "rgnp   1.000000  2.140627e-02  1.720399e-07  0.062738  2.357566e-04  0.018985   \n",
      "pgnp   0.004453  1.000000e+00  4.532711e-01  0.194061  1.783769e-02  0.046037   \n",
      "ulc    0.000003  6.286447e-04  1.000000e+00  0.550075  7.317498e-07  0.017228   \n",
      "gdfco  0.028141  5.764715e-02  2.664852e-04  1.000000  3.504453e-03  0.000029   \n",
      "gdf    0.207876  1.695280e-07  7.664548e-02  0.012704  1.000000e+00  0.000863   \n",
      "gdfim  0.095896  9.367638e-04  1.422892e-02  0.077287  1.429787e-04  1.000000   \n",
      "gdfcf  0.025423  1.990574e-07  1.148651e-01  0.809962  4.977663e-02  0.012006   \n",
      "gdfce  0.004623  1.089179e-01  9.617873e-04  0.082542  2.363979e-03  0.000466   \n",
      "\n",
      "          gdfcf     gdfce  \n",
      "rgnp   0.000071  0.020485  \n",
      "pgnp   0.046132  0.079810  \n",
      "ulc    0.000827  0.001268  \n",
      "gdfco  0.101157  0.001004  \n",
      "gdf    0.056880  0.000002  \n",
      "gdfim  0.000292  0.010624  \n",
      "gdfcf  1.000000  0.003076  \n",
      "gdfce  0.000018  1.000000  \n"
     ]
    }
   ],
   "source": [
    "#create the matrix with dataframe from previous task - every time series already stationary\n",
    "o = GrangerMatrix(df, df.columns, 12)\n",
    "\n",
    "#print it\n",
    "print(o)"
   ]
  }
 ],
 "metadata": {
  "interpreter": {
   "hash": "86c2c867e78863a60e64bea1f2d56ebc9d5225f53ae6e6c58059e4ad08fe36f1"
  },
  "kernelspec": {
   "display_name": "Python 3.9.2 64-bit",
   "language": "python",
   "name": "python3"
  },
  "language_info": {
   "codemirror_mode": {
    "name": "ipython",
    "version": 3
   },
   "file_extension": ".py",
   "mimetype": "text/x-python",
   "name": "python",
   "nbconvert_exporter": "python",
   "pygments_lexer": "ipython3",
   "version": "3.9.2"
  },
  "orig_nbformat": 4
 },
 "nbformat": 4,
 "nbformat_minor": 2
}
