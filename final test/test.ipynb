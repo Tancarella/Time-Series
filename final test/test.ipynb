{
 "cells": [
  {
   "cell_type": "code",
   "execution_count": 1,
   "metadata": {},
   "outputs": [],
   "source": [
    "import pandas as pd\n",
    "import numpy as np\n",
    "import matplotlib.pyplot as plt\n",
    "\n",
    "from sklearn.metrics import mean_absolute_percentage_error\n",
    "from statsmodels.graphics.tsaplots import plot_acf, plot_pacf\n",
    "from statsmodels.tsa.stattools import adfuller\n",
    "\n",
    "from statsmodels.tsa.api import SimpleExpSmoothing, Holt\n",
    "from statsmodels.tsa.holtwinters import ExponentialSmoothing\n",
    "from statsmodels.tsa.seasonal import seasonal_decompose\n",
    "\n",
    "from pmdarima import auto_arima\n",
    "from statsmodels.tsa.statespace.sarimax import SARIMAX\n",
    "\n",
    "from prophet import Prophet"
   ]
  },
  {
   "cell_type": "code",
   "execution_count": 2,
   "metadata": {},
   "outputs": [
    {
     "data": {
      "text/html": [
       "<div>\n",
       "<style scoped>\n",
       "    .dataframe tbody tr th:only-of-type {\n",
       "        vertical-align: middle;\n",
       "    }\n",
       "\n",
       "    .dataframe tbody tr th {\n",
       "        vertical-align: top;\n",
       "    }\n",
       "\n",
       "    .dataframe thead th {\n",
       "        text-align: right;\n",
       "    }\n",
       "</style>\n",
       "<table border=\"1\" class=\"dataframe\">\n",
       "  <thead>\n",
       "    <tr style=\"text-align: right;\">\n",
       "      <th></th>\n",
       "      <th>Row</th>\n",
       "      <th>Day</th>\n",
       "      <th>Day.Of.Week</th>\n",
       "      <th>Page.Loads</th>\n",
       "      <th>Unique.Visits</th>\n",
       "      <th>First.Time.Visits</th>\n",
       "      <th>Returning.Visits</th>\n",
       "    </tr>\n",
       "    <tr>\n",
       "      <th>Date</th>\n",
       "      <th></th>\n",
       "      <th></th>\n",
       "      <th></th>\n",
       "      <th></th>\n",
       "      <th></th>\n",
       "      <th></th>\n",
       "      <th></th>\n",
       "    </tr>\n",
       "  </thead>\n",
       "  <tbody>\n",
       "    <tr>\n",
       "      <th>2014-09-14</th>\n",
       "      <td>1</td>\n",
       "      <td>Sunday</td>\n",
       "      <td>1</td>\n",
       "      <td>2,146</td>\n",
       "      <td>1,582</td>\n",
       "      <td>1,430</td>\n",
       "      <td>152</td>\n",
       "    </tr>\n",
       "    <tr>\n",
       "      <th>2014-09-15</th>\n",
       "      <td>2</td>\n",
       "      <td>Monday</td>\n",
       "      <td>2</td>\n",
       "      <td>3,621</td>\n",
       "      <td>2,528</td>\n",
       "      <td>2,297</td>\n",
       "      <td>231</td>\n",
       "    </tr>\n",
       "    <tr>\n",
       "      <th>2014-09-16</th>\n",
       "      <td>3</td>\n",
       "      <td>Tuesday</td>\n",
       "      <td>3</td>\n",
       "      <td>3,698</td>\n",
       "      <td>2,630</td>\n",
       "      <td>2,352</td>\n",
       "      <td>278</td>\n",
       "    </tr>\n",
       "    <tr>\n",
       "      <th>2014-09-17</th>\n",
       "      <td>4</td>\n",
       "      <td>Wednesday</td>\n",
       "      <td>4</td>\n",
       "      <td>3,667</td>\n",
       "      <td>2,614</td>\n",
       "      <td>2,327</td>\n",
       "      <td>287</td>\n",
       "    </tr>\n",
       "    <tr>\n",
       "      <th>2014-09-18</th>\n",
       "      <td>5</td>\n",
       "      <td>Thursday</td>\n",
       "      <td>5</td>\n",
       "      <td>3,316</td>\n",
       "      <td>2,366</td>\n",
       "      <td>2,130</td>\n",
       "      <td>236</td>\n",
       "    </tr>\n",
       "    <tr>\n",
       "      <th>...</th>\n",
       "      <td>...</td>\n",
       "      <td>...</td>\n",
       "      <td>...</td>\n",
       "      <td>...</td>\n",
       "      <td>...</td>\n",
       "      <td>...</td>\n",
       "      <td>...</td>\n",
       "    </tr>\n",
       "    <tr>\n",
       "      <th>2020-08-15</th>\n",
       "      <td>2163</td>\n",
       "      <td>Saturday</td>\n",
       "      <td>7</td>\n",
       "      <td>2,221</td>\n",
       "      <td>1,696</td>\n",
       "      <td>1,373</td>\n",
       "      <td>323</td>\n",
       "    </tr>\n",
       "    <tr>\n",
       "      <th>2020-08-16</th>\n",
       "      <td>2164</td>\n",
       "      <td>Sunday</td>\n",
       "      <td>1</td>\n",
       "      <td>2,724</td>\n",
       "      <td>2,037</td>\n",
       "      <td>1,686</td>\n",
       "      <td>351</td>\n",
       "    </tr>\n",
       "    <tr>\n",
       "      <th>2020-08-17</th>\n",
       "      <td>2165</td>\n",
       "      <td>Monday</td>\n",
       "      <td>2</td>\n",
       "      <td>3,456</td>\n",
       "      <td>2,638</td>\n",
       "      <td>2,181</td>\n",
       "      <td>457</td>\n",
       "    </tr>\n",
       "    <tr>\n",
       "      <th>2020-08-18</th>\n",
       "      <td>2166</td>\n",
       "      <td>Tuesday</td>\n",
       "      <td>3</td>\n",
       "      <td>3,581</td>\n",
       "      <td>2,683</td>\n",
       "      <td>2,184</td>\n",
       "      <td>499</td>\n",
       "    </tr>\n",
       "    <tr>\n",
       "      <th>2020-08-19</th>\n",
       "      <td>2167</td>\n",
       "      <td>Wednesday</td>\n",
       "      <td>4</td>\n",
       "      <td>2,064</td>\n",
       "      <td>1,564</td>\n",
       "      <td>1,297</td>\n",
       "      <td>267</td>\n",
       "    </tr>\n",
       "  </tbody>\n",
       "</table>\n",
       "<p>2167 rows × 7 columns</p>\n",
       "</div>"
      ],
      "text/plain": [
       "             Row        Day  Day.Of.Week Page.Loads Unique.Visits  \\\n",
       "Date                                                                \n",
       "2014-09-14     1     Sunday            1      2,146         1,582   \n",
       "2014-09-15     2     Monday            2      3,621         2,528   \n",
       "2014-09-16     3    Tuesday            3      3,698         2,630   \n",
       "2014-09-17     4  Wednesday            4      3,667         2,614   \n",
       "2014-09-18     5   Thursday            5      3,316         2,366   \n",
       "...          ...        ...          ...        ...           ...   \n",
       "2020-08-15  2163   Saturday            7      2,221         1,696   \n",
       "2020-08-16  2164     Sunday            1      2,724         2,037   \n",
       "2020-08-17  2165     Monday            2      3,456         2,638   \n",
       "2020-08-18  2166    Tuesday            3      3,581         2,683   \n",
       "2020-08-19  2167  Wednesday            4      2,064         1,564   \n",
       "\n",
       "           First.Time.Visits Returning.Visits  \n",
       "Date                                           \n",
       "2014-09-14             1,430              152  \n",
       "2014-09-15             2,297              231  \n",
       "2014-09-16             2,352              278  \n",
       "2014-09-17             2,327              287  \n",
       "2014-09-18             2,130              236  \n",
       "...                      ...              ...  \n",
       "2020-08-15             1,373              323  \n",
       "2020-08-16             1,686              351  \n",
       "2020-08-17             2,181              457  \n",
       "2020-08-18             2,184              499  \n",
       "2020-08-19             1,297              267  \n",
       "\n",
       "[2167 rows x 7 columns]"
      ]
     },
     "execution_count": 2,
     "metadata": {},
     "output_type": "execute_result"
    }
   ],
   "source": [
    "df = pd.read_csv('daily-website-visitors.csv', index_col = 'Date', parse_dates = True)\n",
    "df.index.freq = 'D'\n",
    "df"
   ]
  },
  {
   "cell_type": "markdown",
   "metadata": {},
   "source": [
    "### Data is in object type instead of int, have to get rid of comma after thousands"
   ]
  },
  {
   "cell_type": "code",
   "execution_count": 3,
   "metadata": {},
   "outputs": [],
   "source": [
    "df['First.Time.Visits'] = df['First.Time.Visits'].str.replace(',', '')\n",
    "df['First.Time.Visits'] = df['First.Time.Visits'].astype(int)"
   ]
  },
  {
   "cell_type": "code",
   "execution_count": 4,
   "metadata": {},
   "outputs": [
    {
     "data": {
      "text/plain": [
       "Date\n",
       "2014-09-14    1430\n",
       "2014-09-15    2297\n",
       "2014-09-16    2352\n",
       "2014-09-17    2327\n",
       "2014-09-18    2130\n",
       "              ... \n",
       "2020-08-15    1373\n",
       "2020-08-16    1686\n",
       "2020-08-17    2181\n",
       "2020-08-18    2184\n",
       "2020-08-19    1297\n",
       "Freq: D, Name: First.Time.Visits, Length: 2167, dtype: int32"
      ]
     },
     "execution_count": 4,
     "metadata": {},
     "output_type": "execute_result"
    }
   ],
   "source": [
    "df1 = df['First.Time.Visits']\n",
    "df1"
   ]
  },
  {
   "cell_type": "code",
   "execution_count": 6,
   "metadata": {},
   "outputs": [
    {
     "name": "stderr",
     "output_type": "stream",
     "text": [
      "C:\\Users\\Rudy\\AppData\\Local\\Temp/ipykernel_18328/3189490167.py:2: FutureWarning: the 'freq'' keyword is deprecated, use 'period' instead\n",
      "  resultSeasonal = seasonal_decompose(df1, freq = 7)\n"
     ]
    },
    {
     "data": {
      "image/png": "[encoded data removed]",
      "text/plain": [
       "<Figure size 432x288 with 1 Axes>"
      ]
     },
     "metadata": {
      "needs_background": "light"
     },
     "output_type": "display_data"
    },
    {
     "data": {
      "image/png": "[encoded data removed]",
      "text/plain": [
       "<Figure size 432x288 with 4 Axes>"
      ]
     },
     "metadata": {
      "needs_background": "light"
     },
     "output_type": "display_data"
    }
   ],
   "source": [
    "df1.plot()\n",
    "resultSeasonal = seasonal_decompose(df1, freq = 7)\n",
    "resultSeasonal.plot();"
   ]
  },
  {
   "cell_type": "markdown",
   "metadata": {},
   "source": [
    "### Starting out with auto-arima"
   ]
  },
  {
   "cell_type": "code",
   "execution_count": 7,
   "metadata": {},
   "outputs": [
    {
     "name": "stdout",
     "output_type": "stream",
     "text": [
      "Performing stepwise search to minimize aic\n",
      " ARIMA(2,1,2)(1,0,1)[7] intercept   : AIC=29239.214, Time=3.43 sec\n",
      " ARIMA(0,1,0)(0,0,0)[7] intercept   : AIC=33582.394, Time=0.03 sec\n",
      " ARIMA(1,1,0)(1,0,0)[7] intercept   : AIC=29798.887, Time=0.65 sec\n",
      " ARIMA(0,1,1)(0,0,1)[7] intercept   : AIC=31761.991, Time=0.74 sec\n",
      " ARIMA(0,1,0)(0,0,0)[7]             : AIC=33580.394, Time=0.01 sec\n",
      " ARIMA(2,1,2)(0,0,1)[7] intercept   : AIC=30650.623, Time=2.98 sec\n",
      " ARIMA(2,1,2)(1,0,0)[7] intercept   : AIC=inf, Time=2.26 sec\n",
      " ARIMA(2,1,2)(2,0,1)[7] intercept   : AIC=inf, Time=11.37 sec\n",
      " ARIMA(2,1,2)(1,0,2)[7] intercept   : AIC=inf, Time=10.66 sec\n",
      " ARIMA(2,1,2)(0,0,0)[7] intercept   : AIC=31477.422, Time=0.98 sec\n",
      " ARIMA(2,1,2)(0,0,2)[7] intercept   : AIC=30574.240, Time=6.44 sec\n",
      " ARIMA(2,1,2)(2,0,0)[7] intercept   : AIC=inf, Time=4.50 sec\n",
      " ARIMA(2,1,2)(2,0,2)[7] intercept   : AIC=inf, Time=11.85 sec\n",
      " ARIMA(1,1,2)(1,0,1)[7] intercept   : AIC=29184.157, Time=3.43 sec\n",
      " ARIMA(1,1,2)(0,0,1)[7] intercept   : AIC=31224.725, Time=2.02 sec\n",
      " ARIMA(1,1,2)(1,0,0)[7] intercept   : AIC=inf, Time=1.84 sec\n",
      " ARIMA(1,1,2)(2,0,1)[7] intercept   : AIC=inf, Time=4.27 sec\n",
      " ARIMA(1,1,2)(1,0,2)[7] intercept   : AIC=inf, Time=8.58 sec\n",
      " ARIMA(1,1,2)(0,0,0)[7] intercept   : AIC=32326.314, Time=0.88 sec\n",
      " ARIMA(1,1,2)(0,0,2)[7] intercept   : AIC=30609.381, Time=6.34 sec\n",
      " ARIMA(1,1,2)(2,0,0)[7] intercept   : AIC=inf, Time=4.70 sec\n",
      " ARIMA(1,1,2)(2,0,2)[7] intercept   : AIC=inf, Time=10.76 sec\n",
      " ARIMA(0,1,2)(1,0,1)[7] intercept   : AIC=29206.901, Time=2.80 sec\n",
      " ARIMA(1,1,1)(1,0,1)[7] intercept   : AIC=29228.169, Time=3.30 sec\n",
      " ARIMA(1,1,3)(1,0,1)[7] intercept   : AIC=inf, Time=3.10 sec\n",
      " ARIMA(0,1,1)(1,0,1)[7] intercept   : AIC=29287.818, Time=1.64 sec\n",
      " ARIMA(0,1,3)(1,0,1)[7] intercept   : AIC=29184.633, Time=3.20 sec\n",
      " ARIMA(2,1,1)(1,0,1)[7] intercept   : AIC=inf, Time=3.19 sec\n",
      " ARIMA(2,1,3)(1,0,1)[7] intercept   : AIC=inf, Time=4.25 sec\n",
      " ARIMA(1,1,2)(1,0,1)[7]             : AIC=29181.898, Time=1.71 sec\n",
      " ARIMA(1,1,2)(0,0,1)[7]             : AIC=31222.727, Time=0.74 sec\n",
      " ARIMA(1,1,2)(1,0,0)[7]             : AIC=inf, Time=1.09 sec\n",
      " ARIMA(1,1,2)(2,0,1)[7]             : AIC=inf, Time=3.06 sec\n",
      " ARIMA(1,1,2)(1,0,2)[7]             : AIC=inf, Time=6.13 sec\n",
      " ARIMA(1,1,2)(0,0,0)[7]             : AIC=32324.315, Time=0.36 sec\n",
      " ARIMA(1,1,2)(0,0,2)[7]             : AIC=30607.382, Time=1.86 sec\n",
      " ARIMA(1,1,2)(2,0,0)[7]             : AIC=inf, Time=3.78 sec\n",
      " ARIMA(1,1,2)(2,0,2)[7]             : AIC=inf, Time=7.06 sec\n",
      " ARIMA(0,1,2)(1,0,1)[7]             : AIC=29205.132, Time=1.04 sec\n",
      " ARIMA(1,1,1)(1,0,1)[7]             : AIC=29244.584, Time=1.86 sec\n",
      " ARIMA(2,1,2)(1,0,1)[7]             : AIC=inf, Time=2.93 sec\n",
      " ARIMA(1,1,3)(1,0,1)[7]             : AIC=inf, Time=1.72 sec\n",
      " ARIMA(0,1,1)(1,0,1)[7]             : AIC=29287.562, Time=0.76 sec\n",
      " ARIMA(0,1,3)(1,0,1)[7]             : AIC=29182.928, Time=1.41 sec\n",
      " ARIMA(2,1,1)(1,0,1)[7]             : AIC=inf, Time=2.03 sec\n",
      " ARIMA(2,1,3)(1,0,1)[7]             : AIC=inf, Time=2.47 sec\n",
      "\n",
      "Best model:  ARIMA(1,1,2)(1,0,1)[7]          \n",
      "Total fit time: 160.200 seconds\n"
     ]
    },
    {
     "data": {
      "text/html": [
       "<table class=\"simpletable\">\n",
       "<caption>SARIMAX Results</caption>\n",
       "<tr>\n",
       "  <th>Dep. Variable:</th>                  <td>y</td>                <th>  No. Observations:  </th>    <td>2167</td>   \n",
       "</tr>\n",
       "<tr>\n",
       "  <th>Model:</th>           <td>SARIMAX(1, 1, 2)x(1, 0, [1], 7)</td> <th>  Log Likelihood     </th> <td>-14584.949</td>\n",
       "</tr>\n",
       "<tr>\n",
       "  <th>Date:</th>                   <td>Fri, 13 May 2022</td>         <th>  AIC                </th>  <td>29181.898</td>\n",
       "</tr>\n",
       "<tr>\n",
       "  <th>Time:</th>                       <td>14:20:45</td>             <th>  BIC                </th>  <td>29215.982</td>\n",
       "</tr>\n",
       "<tr>\n",
       "  <th>Sample:</th>                         <td>0</td>                <th>  HQIC               </th>  <td>29194.362</td>\n",
       "</tr>\n",
       "<tr>\n",
       "  <th></th>                             <td> - 2167</td>             <th>                     </th>      <td> </td>    \n",
       "</tr>\n",
       "<tr>\n",
       "  <th>Covariance Type:</th>               <td>opg</td>               <th>                     </th>      <td> </td>    \n",
       "</tr>\n",
       "</table>\n",
       "<table class=\"simpletable\">\n",
       "<tr>\n",
       "     <td></td>        <th>coef</th>     <th>std err</th>      <th>z</th>      <th>P>|z|</th>  <th>[0.025</th>    <th>0.975]</th>  \n",
       "</tr>\n",
       "<tr>\n",
       "  <th>ar.L1</th>   <td>    0.3412</td> <td>    0.060</td> <td>    5.684</td> <td> 0.000</td> <td>    0.224</td> <td>    0.459</td>\n",
       "</tr>\n",
       "<tr>\n",
       "  <th>ma.L1</th>   <td>   -0.3571</td> <td>    0.062</td> <td>   -5.789</td> <td> 0.000</td> <td>   -0.478</td> <td>   -0.236</td>\n",
       "</tr>\n",
       "<tr>\n",
       "  <th>ma.L2</th>   <td>   -0.2031</td> <td>    0.020</td> <td>  -10.095</td> <td> 0.000</td> <td>   -0.243</td> <td>   -0.164</td>\n",
       "</tr>\n",
       "<tr>\n",
       "  <th>ar.S.L7</th> <td>    1.0000</td> <td> 3.67e-05</td> <td> 2.72e+04</td> <td> 0.000</td> <td>    1.000</td> <td>    1.000</td>\n",
       "</tr>\n",
       "<tr>\n",
       "  <th>ma.S.L7</th> <td>   -0.8162</td> <td>    0.012</td> <td>  -68.249</td> <td> 0.000</td> <td>   -0.840</td> <td>   -0.793</td>\n",
       "</tr>\n",
       "<tr>\n",
       "  <th>sigma2</th>  <td> 4.062e+04</td> <td>  848.870</td> <td>   47.850</td> <td> 0.000</td> <td>  3.9e+04</td> <td> 4.23e+04</td>\n",
       "</tr>\n",
       "</table>\n",
       "<table class=\"simpletable\">\n",
       "<tr>\n",
       "  <th>Ljung-Box (L1) (Q):</th>     <td>0.04</td> <th>  Jarque-Bera (JB):  </th> <td>647.34</td>\n",
       "</tr>\n",
       "<tr>\n",
       "  <th>Prob(Q):</th>                <td>0.85</td> <th>  Prob(JB):          </th>  <td>0.00</td> \n",
       "</tr>\n",
       "<tr>\n",
       "  <th>Heteroskedasticity (H):</th> <td>1.20</td> <th>  Skew:              </th>  <td>0.06</td> \n",
       "</tr>\n",
       "<tr>\n",
       "  <th>Prob(H) (two-sided):</th>    <td>0.01</td> <th>  Kurtosis:          </th>  <td>5.68</td> \n",
       "</tr>\n",
       "</table><br/><br/>Warnings:<br/>[1] Covariance matrix calculated using the outer product of gradients (complex-step)."
      ],
      "text/plain": [
       "<class 'statsmodels.iolib.summary.Summary'>\n",
       "\"\"\"\n",
       "                                      SARIMAX Results                                      \n",
       "===========================================================================================\n",
       "Dep. Variable:                                   y   No. Observations:                 2167\n",
       "Model:             SARIMAX(1, 1, 2)x(1, 0, [1], 7)   Log Likelihood              -14584.949\n",
       "Date:                             Fri, 13 May 2022   AIC                          29181.898\n",
       "Time:                                     14:20:45   BIC                          29215.982\n",
       "Sample:                                          0   HQIC                         29194.362\n",
       "                                            - 2167                                         \n",
       "Covariance Type:                               opg                                         \n",
       "==============================================================================\n",
       "                 coef    std err          z      P>|z|      [0.025      0.975]\n",
       "------------------------------------------------------------------------------\n",
       "ar.L1          0.3412      0.060      5.684      0.000       0.224       0.459\n",
       "ma.L1         -0.3571      0.062     -5.789      0.000      -0.478      -0.236\n",
       "ma.L2         -0.2031      0.020    -10.095      0.000      -0.243      -0.164\n",
       "ar.S.L7        1.0000   3.67e-05   2.72e+04      0.000       1.000       1.000\n",
       "ma.S.L7       -0.8162      0.012    -68.249      0.000      -0.840      -0.793\n",
       "sigma2      4.062e+04    848.870     47.850      0.000     3.9e+04    4.23e+04\n",
       "===================================================================================\n",
       "Ljung-Box (L1) (Q):                   0.04   Jarque-Bera (JB):               647.34\n",
       "Prob(Q):                              0.85   Prob(JB):                         0.00\n",
       "Heteroskedasticity (H):               1.20   Skew:                             0.06\n",
       "Prob(H) (two-sided):                  0.01   Kurtosis:                         5.68\n",
       "===================================================================================\n",
       "\n",
       "Warnings:\n",
       "[1] Covariance matrix calculated using the outer product of gradients (complex-step).\n",
       "\"\"\""
      ]
     },
     "execution_count": 7,
     "metadata": {},
     "output_type": "execute_result"
    }
   ],
   "source": [
    "auto_arima(df1, seasonal = True, m = 7, trace = True).summary()"
   ]
  },
  {
   "cell_type": "markdown",
   "metadata": {},
   "source": [
    "### Train-test split"
   ]
  },
  {
   "cell_type": "code",
   "execution_count": 8,
   "metadata": {},
   "outputs": [],
   "source": [
    "train_data = df1.iloc[:-30]\n",
    "test_data = df1.iloc[-30:]"
   ]
  },
  {
   "cell_type": "markdown",
   "metadata": {},
   "source": [
    "### Simple Exponential Smoothing"
   ]
  },
  {
   "cell_type": "code",
   "execution_count": 9,
   "metadata": {},
   "outputs": [
    {
     "name": "stdout",
     "output_type": "stream",
     "text": [
      "0.23695891753210677\n"
     ]
    },
    {
     "name": "stderr",
     "output_type": "stream",
     "text": [
      "c:\\Users\\Rudy\\anaconda3\\lib\\site-packages\\statsmodels\\tsa\\holtwinters\\model.py:427: FutureWarning: After 0.13 initialization must be handled at model creation\n",
      "  warnings.warn(\n",
      "c:\\Users\\Rudy\\anaconda3\\lib\\site-packages\\statsmodels\\tsa\\holtwinters\\model.py:920: ConvergenceWarning: Optimization failed to converge. Check mle_retvals.\n",
      "  warnings.warn(\n",
      "c:\\Users\\Rudy\\anaconda3\\lib\\site-packages\\statsmodels\\tsa\\base\\tsa_model.py:132: FutureWarning: The 'freq' argument in Timestamp is deprecated and will be removed in a future version.\n",
      "  date_key = Timestamp(key, freq=base_index.freq)\n"
     ]
    }
   ],
   "source": [
    "fitSES2 = SimpleExpSmoothing(train_data).fit()\n",
    "fcastSES2 = fitSES2.forecast(len(test_data)).rename('SES predict')\n",
    "print(mean_absolute_percentage_error(test_data, fcastSES2))"
   ]
  },
  {
   "cell_type": "markdown",
   "metadata": {},
   "source": [
    "### Holt's method"
   ]
  },
  {
   "cell_type": "code",
   "execution_count": 10,
   "metadata": {},
   "outputs": [
    {
     "name": "stdout",
     "output_type": "stream",
     "text": [
      "0.20599586600524325\n",
      "0.2228381620874419\n"
     ]
    },
    {
     "name": "stderr",
     "output_type": "stream",
     "text": [
      "c:\\Users\\Rudy\\anaconda3\\lib\\site-packages\\statsmodels\\tsa\\holtwinters\\model.py:427: FutureWarning: After 0.13 initialization must be handled at model creation\n",
      "  warnings.warn(\n",
      "c:\\Users\\Rudy\\anaconda3\\lib\\site-packages\\statsmodels\\tsa\\holtwinters\\model.py:920: ConvergenceWarning: Optimization failed to converge. Check mle_retvals.\n",
      "  warnings.warn(\n",
      "c:\\Users\\Rudy\\anaconda3\\lib\\site-packages\\statsmodels\\tsa\\base\\tsa_model.py:132: FutureWarning: The 'freq' argument in Timestamp is deprecated and will be removed in a future version.\n",
      "  date_key = Timestamp(key, freq=base_index.freq)\n",
      "c:\\Users\\Rudy\\anaconda3\\lib\\site-packages\\statsmodels\\tsa\\holtwinters\\model.py:920: ConvergenceWarning: Optimization failed to converge. Check mle_retvals.\n",
      "  warnings.warn(\n"
     ]
    }
   ],
   "source": [
    "fitHolt1_2 = Holt(train_data, exponential = False).fit()\n",
    "fcastHolt1_2 = fitHolt1_2.forecast(len(test_data)).rename(\"Holt's predict 1\")\n",
    "\n",
    "#Damped trend\n",
    "fitHolt2_2 = Holt(train_data, damped_trend = True).fit()\n",
    "fcastHolt2_2 = fitHolt2_2.forecast(len(test_data)).rename(\"Holt's predict 2\")\n",
    "\n",
    "#finding out the best one based on MAPE\n",
    "print(mean_absolute_percentage_error(test_data, fcastHolt1_2))\n",
    "print(mean_absolute_percentage_error(test_data, fcastHolt2_2))"
   ]
  },
  {
   "cell_type": "markdown",
   "metadata": {},
   "source": [
    "##### Errores for both SES and Holt are too big to even consider them for final forecast."
   ]
  },
  {
   "cell_type": "markdown",
   "metadata": {},
   "source": [
    "### Holt-Winter's method"
   ]
  },
  {
   "cell_type": "code",
   "execution_count": 11,
   "metadata": {},
   "outputs": [
    {
     "name": "stderr",
     "output_type": "stream",
     "text": [
      "c:\\Users\\Rudy\\anaconda3\\lib\\site-packages\\statsmodels\\tsa\\holtwinters\\model.py:427: FutureWarning: After 0.13 initialization must be handled at model creation\n",
      "  warnings.warn(\n",
      "c:\\Users\\Rudy\\anaconda3\\lib\\site-packages\\statsmodels\\tsa\\holtwinters\\model.py:920: ConvergenceWarning: Optimization failed to converge. Check mle_retvals.\n",
      "  warnings.warn(\n"
     ]
    },
    {
     "name": "stdout",
     "output_type": "stream",
     "text": [
      "0.21759981970645764\n"
     ]
    },
    {
     "name": "stderr",
     "output_type": "stream",
     "text": [
      "c:\\Users\\Rudy\\anaconda3\\lib\\site-packages\\statsmodels\\tsa\\base\\tsa_model.py:132: FutureWarning: The 'freq' argument in Timestamp is deprecated and will be removed in a future version.\n",
      "  date_key = Timestamp(key, freq=base_index.freq)\n"
     ]
    }
   ],
   "source": [
    "#both additive\n",
    "fitHoltWinter2 = ExponentialSmoothing(train_data, trend = 'add', seasonal = 'add', seasonal_periods = 7).fit()\n",
    "fcastHoltWinter2 = fitHoltWinter2.forecast(len(test_data)).rename(\"Holt-Winter's predict\")\n",
    "\n",
    "print(mean_absolute_percentage_error(test_data, fcastHoltWinter2))"
   ]
  },
  {
   "cell_type": "markdown",
   "metadata": {},
   "source": [
    "##### Still really big MAPE."
   ]
  },
  {
   "cell_type": "markdown",
   "metadata": {},
   "source": [
    "### SARIMA"
   ]
  },
  {
   "cell_type": "code",
   "execution_count": 12,
   "metadata": {},
   "outputs": [
    {
     "name": "stderr",
     "output_type": "stream",
     "text": [
      "c:\\Users\\Rudy\\anaconda3\\lib\\site-packages\\statsmodels\\tsa\\statespace\\sarimax.py:978: UserWarning: Non-invertible starting MA parameters found. Using zeros as starting parameters.\n",
      "  warn('Non-invertible starting MA parameters found.'\n"
     ]
    },
    {
     "data": {
      "text/html": [
       "<table class=\"simpletable\">\n",
       "<caption>SARIMAX Results</caption>\n",
       "<tr>\n",
       "  <th>Dep. Variable:</th>         <td>First.Time.Visits</td>       <th>  No. Observations:  </th>    <td>2137</td>   \n",
       "</tr>\n",
       "<tr>\n",
       "  <th>Model:</th>           <td>SARIMAX(0, 1, 2)x(1, 0, 2, 7)</td> <th>  Log Likelihood     </th> <td>-14332.561</td>\n",
       "</tr>\n",
       "<tr>\n",
       "  <th>Date:</th>                  <td>Fri, 13 May 2022</td>        <th>  AIC                </th>  <td>28677.121</td>\n",
       "</tr>\n",
       "<tr>\n",
       "  <th>Time:</th>                      <td>14:20:49</td>            <th>  BIC                </th>  <td>28711.121</td>\n",
       "</tr>\n",
       "<tr>\n",
       "  <th>Sample:</th>                   <td>09-14-2014</td>           <th>  HQIC               </th>  <td>28689.564</td>\n",
       "</tr>\n",
       "<tr>\n",
       "  <th></th>                         <td>- 07-20-2020</td>          <th>                     </th>      <td> </td>    \n",
       "</tr>\n",
       "<tr>\n",
       "  <th>Covariance Type:</th>              <td>opg</td>              <th>                     </th>      <td> </td>    \n",
       "</tr>\n",
       "</table>\n",
       "<table class=\"simpletable\">\n",
       "<tr>\n",
       "      <td></td>        <th>coef</th>     <th>std err</th>      <th>z</th>      <th>P>|z|</th>  <th>[0.025</th>    <th>0.975]</th>  \n",
       "</tr>\n",
       "<tr>\n",
       "  <th>ma.L1</th>    <td>   -0.0688</td> <td>    0.016</td> <td>   -4.249</td> <td> 0.000</td> <td>   -0.101</td> <td>   -0.037</td>\n",
       "</tr>\n",
       "<tr>\n",
       "  <th>ma.L2</th>    <td>   -0.2293</td> <td>    0.018</td> <td>  -12.666</td> <td> 0.000</td> <td>   -0.265</td> <td>   -0.194</td>\n",
       "</tr>\n",
       "<tr>\n",
       "  <th>ar.S.L7</th>  <td>    1.0000</td> <td> 2.69e-05</td> <td> 3.71e+04</td> <td> 0.000</td> <td>    1.000</td> <td>    1.000</td>\n",
       "</tr>\n",
       "<tr>\n",
       "  <th>ma.S.L7</th>  <td>   -0.6974</td> <td>    0.018</td> <td>  -38.484</td> <td> 0.000</td> <td>   -0.733</td> <td>   -0.662</td>\n",
       "</tr>\n",
       "<tr>\n",
       "  <th>ma.S.L14</th> <td>   -0.2589</td> <td>    0.018</td> <td>  -14.764</td> <td> 0.000</td> <td>   -0.293</td> <td>   -0.225</td>\n",
       "</tr>\n",
       "<tr>\n",
       "  <th>sigma2</th>   <td> 3.876e+04</td> <td> 8.08e-08</td> <td>  4.8e+11</td> <td> 0.000</td> <td> 3.88e+04</td> <td> 3.88e+04</td>\n",
       "</tr>\n",
       "</table>\n",
       "<table class=\"simpletable\">\n",
       "<tr>\n",
       "  <th>Ljung-Box (L1) (Q):</th>     <td>2.35</td> <th>  Jarque-Bera (JB):  </th> <td>285.29</td>\n",
       "</tr>\n",
       "<tr>\n",
       "  <th>Prob(Q):</th>                <td>0.13</td> <th>  Prob(JB):          </th>  <td>0.00</td> \n",
       "</tr>\n",
       "<tr>\n",
       "  <th>Heteroskedasticity (H):</th> <td>1.20</td> <th>  Skew:              </th>  <td>0.11</td> \n",
       "</tr>\n",
       "<tr>\n",
       "  <th>Prob(H) (two-sided):</th>    <td>0.01</td> <th>  Kurtosis:          </th>  <td>4.78</td> \n",
       "</tr>\n",
       "</table><br/><br/>Warnings:<br/>[1] Covariance matrix calculated using the outer product of gradients (complex-step).<br/>[2] Covariance matrix is singular or near-singular, with condition number 3.07e+25. Standard errors may be unstable."
      ],
      "text/plain": [
       "<class 'statsmodels.iolib.summary.Summary'>\n",
       "\"\"\"\n",
       "                                     SARIMAX Results                                     \n",
       "=========================================================================================\n",
       "Dep. Variable:                 First.Time.Visits   No. Observations:                 2137\n",
       "Model:             SARIMAX(0, 1, 2)x(1, 0, 2, 7)   Log Likelihood              -14332.561\n",
       "Date:                           Fri, 13 May 2022   AIC                          28677.121\n",
       "Time:                                   14:20:49   BIC                          28711.121\n",
       "Sample:                               09-14-2014   HQIC                         28689.564\n",
       "                                    - 07-20-2020                                         \n",
       "Covariance Type:                             opg                                         \n",
       "==============================================================================\n",
       "                 coef    std err          z      P>|z|      [0.025      0.975]\n",
       "------------------------------------------------------------------------------\n",
       "ma.L1         -0.0688      0.016     -4.249      0.000      -0.101      -0.037\n",
       "ma.L2         -0.2293      0.018    -12.666      0.000      -0.265      -0.194\n",
       "ar.S.L7        1.0000   2.69e-05   3.71e+04      0.000       1.000       1.000\n",
       "ma.S.L7       -0.6974      0.018    -38.484      0.000      -0.733      -0.662\n",
       "ma.S.L14      -0.2589      0.018    -14.764      0.000      -0.293      -0.225\n",
       "sigma2      3.876e+04   8.08e-08    4.8e+11      0.000    3.88e+04    3.88e+04\n",
       "===================================================================================\n",
       "Ljung-Box (L1) (Q):                   2.35   Jarque-Bera (JB):               285.29\n",
       "Prob(Q):                              0.13   Prob(JB):                         0.00\n",
       "Heteroskedasticity (H):               1.20   Skew:                             0.11\n",
       "Prob(H) (two-sided):                  0.01   Kurtosis:                         4.78\n",
       "===================================================================================\n",
       "\n",
       "Warnings:\n",
       "[1] Covariance matrix calculated using the outer product of gradients (complex-step).\n",
       "[2] Covariance matrix is singular or near-singular, with condition number 3.07e+25. Standard errors may be unstable.\n",
       "\"\"\""
      ]
     },
     "execution_count": 12,
     "metadata": {},
     "output_type": "execute_result"
    }
   ],
   "source": [
    "fitSARIMA2 = SARIMAX(train_data, order = (0, 1, 2), seasonal_order = (1, 0, 2, 7)).fit()\n",
    "fitSARIMA2.summary()"
   ]
  },
  {
   "cell_type": "code",
   "execution_count": 13,
   "metadata": {},
   "outputs": [
    {
     "name": "stdout",
     "output_type": "stream",
     "text": [
      "0.08799316761231335\n"
     ]
    }
   ],
   "source": [
    "start = len(train_data)\n",
    "end = start + len(test_data) - 1\n",
    "fcastSARIMA2 = fitSARIMA2.predict(start = start, end = end, dynamic = False).rename('SARIMA')\n",
    "print(mean_absolute_percentage_error(test_data, fcastSARIMA2))"
   ]
  },
  {
   "cell_type": "markdown",
   "metadata": {},
   "source": [
    "### Prophet"
   ]
  },
  {
   "cell_type": "code",
   "execution_count": 14,
   "metadata": {},
   "outputs": [
    {
     "data": {
      "text/html": [
       "<div>\n",
       "<style scoped>\n",
       "    .dataframe tbody tr th:only-of-type {\n",
       "        vertical-align: middle;\n",
       "    }\n",
       "\n",
       "    .dataframe tbody tr th {\n",
       "        vertical-align: top;\n",
       "    }\n",
       "\n",
       "    .dataframe thead th {\n",
       "        text-align: right;\n",
       "    }\n",
       "</style>\n",
       "<table border=\"1\" class=\"dataframe\">\n",
       "  <thead>\n",
       "    <tr style=\"text-align: right;\">\n",
       "      <th></th>\n",
       "      <th>ds</th>\n",
       "      <th>y</th>\n",
       "    </tr>\n",
       "  </thead>\n",
       "  <tbody>\n",
       "    <tr>\n",
       "      <th>0</th>\n",
       "      <td>2014-09-14</td>\n",
       "      <td>1430</td>\n",
       "    </tr>\n",
       "    <tr>\n",
       "      <th>1</th>\n",
       "      <td>2014-09-15</td>\n",
       "      <td>2297</td>\n",
       "    </tr>\n",
       "    <tr>\n",
       "      <th>2</th>\n",
       "      <td>2014-09-16</td>\n",
       "      <td>2352</td>\n",
       "    </tr>\n",
       "    <tr>\n",
       "      <th>3</th>\n",
       "      <td>2014-09-17</td>\n",
       "      <td>2327</td>\n",
       "    </tr>\n",
       "    <tr>\n",
       "      <th>4</th>\n",
       "      <td>2014-09-18</td>\n",
       "      <td>2130</td>\n",
       "    </tr>\n",
       "    <tr>\n",
       "      <th>...</th>\n",
       "      <td>...</td>\n",
       "      <td>...</td>\n",
       "    </tr>\n",
       "    <tr>\n",
       "      <th>2132</th>\n",
       "      <td>2020-07-16</td>\n",
       "      <td>2463</td>\n",
       "    </tr>\n",
       "    <tr>\n",
       "      <th>2133</th>\n",
       "      <td>2020-07-17</td>\n",
       "      <td>2122</td>\n",
       "    </tr>\n",
       "    <tr>\n",
       "      <th>2134</th>\n",
       "      <td>2020-07-18</td>\n",
       "      <td>1606</td>\n",
       "    </tr>\n",
       "    <tr>\n",
       "      <th>2135</th>\n",
       "      <td>2020-07-19</td>\n",
       "      <td>1892</td>\n",
       "    </tr>\n",
       "    <tr>\n",
       "      <th>2136</th>\n",
       "      <td>2020-07-20</td>\n",
       "      <td>2428</td>\n",
       "    </tr>\n",
       "  </tbody>\n",
       "</table>\n",
       "<p>2137 rows × 2 columns</p>\n",
       "</div>"
      ],
      "text/plain": [
       "             ds     y\n",
       "0    2014-09-14  1430\n",
       "1    2014-09-15  2297\n",
       "2    2014-09-16  2352\n",
       "3    2014-09-17  2327\n",
       "4    2014-09-18  2130\n",
       "...         ...   ...\n",
       "2132 2020-07-16  2463\n",
       "2133 2020-07-17  2122\n",
       "2134 2020-07-18  1606\n",
       "2135 2020-07-19  1892\n",
       "2136 2020-07-20  2428\n",
       "\n",
       "[2137 rows x 2 columns]"
      ]
     },
     "execution_count": 14,
     "metadata": {},
     "output_type": "execute_result"
    }
   ],
   "source": [
    "data = train_data.reset_index()[['Date', 'First.Time.Visits']]\n",
    "data.columns = ['ds', 'y']\n",
    "data"
   ]
  },
  {
   "cell_type": "code",
   "execution_count": 15,
   "metadata": {},
   "outputs": [
    {
     "name": "stderr",
     "output_type": "stream",
     "text": [
      "INFO:prophet:Disabling daily seasonality. Run prophet with daily_seasonality=True to override this.\n"
     ]
    }
   ],
   "source": [
    "fitProphet = Prophet(weekly_seasonality = True)\n",
    "fitProphet.fit(data)\n",
    "future = fitProphet.make_future_dataframe(len(test_data))\n",
    "fcastProphet = fitProphet.predict(future)"
   ]
  },
  {
   "cell_type": "markdown",
   "metadata": {},
   "source": [
    "##### Going back to normal dataframe"
   ]
  },
  {
   "cell_type": "code",
   "execution_count": 16,
   "metadata": {},
   "outputs": [
    {
     "data": {
      "text/html": [
       "<div>\n",
       "<style scoped>\n",
       "    .dataframe tbody tr th:only-of-type {\n",
       "        vertical-align: middle;\n",
       "    }\n",
       "\n",
       "    .dataframe tbody tr th {\n",
       "        vertical-align: top;\n",
       "    }\n",
       "\n",
       "    .dataframe thead th {\n",
       "        text-align: right;\n",
       "    }\n",
       "</style>\n",
       "<table border=\"1\" class=\"dataframe\">\n",
       "  <thead>\n",
       "    <tr style=\"text-align: right;\">\n",
       "      <th></th>\n",
       "      <th>Prophet</th>\n",
       "    </tr>\n",
       "    <tr>\n",
       "      <th>Date</th>\n",
       "      <th></th>\n",
       "    </tr>\n",
       "  </thead>\n",
       "  <tbody>\n",
       "    <tr>\n",
       "      <th>2020-07-21</th>\n",
       "      <td>2718.915889</td>\n",
       "    </tr>\n",
       "    <tr>\n",
       "      <th>2020-07-22</th>\n",
       "      <td>2686.036950</td>\n",
       "    </tr>\n",
       "    <tr>\n",
       "      <th>2020-07-23</th>\n",
       "      <td>2530.421491</td>\n",
       "    </tr>\n",
       "    <tr>\n",
       "      <th>2020-07-24</th>\n",
       "      <td>1940.790216</td>\n",
       "    </tr>\n",
       "    <tr>\n",
       "      <th>2020-07-25</th>\n",
       "      <td>1248.172355</td>\n",
       "    </tr>\n",
       "    <tr>\n",
       "      <th>2020-07-26</th>\n",
       "      <td>1719.798283</td>\n",
       "    </tr>\n",
       "    <tr>\n",
       "      <th>2020-07-27</th>\n",
       "      <td>2627.903236</td>\n",
       "    </tr>\n",
       "    <tr>\n",
       "      <th>2020-07-28</th>\n",
       "      <td>2695.068820</td>\n",
       "    </tr>\n",
       "    <tr>\n",
       "      <th>2020-07-29</th>\n",
       "      <td>2659.032941</td>\n",
       "    </tr>\n",
       "    <tr>\n",
       "      <th>2020-07-30</th>\n",
       "      <td>2501.708639</td>\n",
       "    </tr>\n",
       "    <tr>\n",
       "      <th>2020-07-31</th>\n",
       "      <td>1911.812035</td>\n",
       "    </tr>\n",
       "    <tr>\n",
       "      <th>2020-08-01</th>\n",
       "      <td>1220.316234</td>\n",
       "    </tr>\n",
       "    <tr>\n",
       "      <th>2020-08-02</th>\n",
       "      <td>1694.347974</td>\n",
       "    </tr>\n",
       "    <tr>\n",
       "      <th>2020-08-03</th>\n",
       "      <td>2605.996923</td>\n",
       "    </tr>\n",
       "    <tr>\n",
       "      <th>2020-08-04</th>\n",
       "      <td>2677.664100</td>\n",
       "    </tr>\n",
       "    <tr>\n",
       "      <th>2020-08-05</th>\n",
       "      <td>2646.879807</td>\n",
       "    </tr>\n",
       "    <tr>\n",
       "      <th>2020-08-06</th>\n",
       "      <td>2495.331249</td>\n",
       "    </tr>\n",
       "    <tr>\n",
       "      <th>2020-08-07</th>\n",
       "      <td>1911.499766</td>\n",
       "    </tr>\n",
       "    <tr>\n",
       "      <th>2020-08-08</th>\n",
       "      <td>1226.124179</td>\n",
       "    </tr>\n",
       "    <tr>\n",
       "      <th>2020-08-09</th>\n",
       "      <td>1706.106721</td>\n",
       "    </tr>\n",
       "    <tr>\n",
       "      <th>2020-08-10</th>\n",
       "      <td>2623.331130</td>\n",
       "    </tr>\n",
       "    <tr>\n",
       "      <th>2020-08-11</th>\n",
       "      <td>2700.019086</td>\n",
       "    </tr>\n",
       "    <tr>\n",
       "      <th>2020-08-12</th>\n",
       "      <td>2673.555100</td>\n",
       "    </tr>\n",
       "    <tr>\n",
       "      <th>2020-08-13</th>\n",
       "      <td>2525.519795</td>\n",
       "    </tr>\n",
       "    <tr>\n",
       "      <th>2020-08-14</th>\n",
       "      <td>1944.331312</td>\n",
       "    </tr>\n",
       "    <tr>\n",
       "      <th>2020-08-15</th>\n",
       "      <td>1260.711192</td>\n",
       "    </tr>\n",
       "    <tr>\n",
       "      <th>2020-08-16</th>\n",
       "      <td>1741.591135</td>\n",
       "    </tr>\n",
       "    <tr>\n",
       "      <th>2020-08-17</th>\n",
       "      <td>2658.930160</td>\n",
       "    </tr>\n",
       "    <tr>\n",
       "      <th>2020-08-18</th>\n",
       "      <td>2735.068400</td>\n",
       "    </tr>\n",
       "    <tr>\n",
       "      <th>2020-08-19</th>\n",
       "      <td>2707.547705</td>\n",
       "    </tr>\n",
       "  </tbody>\n",
       "</table>\n",
       "</div>"
      ],
      "text/plain": [
       "                Prophet\n",
       "Date                   \n",
       "2020-07-21  2718.915889\n",
       "2020-07-22  2686.036950\n",
       "2020-07-23  2530.421491\n",
       "2020-07-24  1940.790216\n",
       "2020-07-25  1248.172355\n",
       "2020-07-26  1719.798283\n",
       "2020-07-27  2627.903236\n",
       "2020-07-28  2695.068820\n",
       "2020-07-29  2659.032941\n",
       "2020-07-30  2501.708639\n",
       "2020-07-31  1911.812035\n",
       "2020-08-01  1220.316234\n",
       "2020-08-02  1694.347974\n",
       "2020-08-03  2605.996923\n",
       "2020-08-04  2677.664100\n",
       "2020-08-05  2646.879807\n",
       "2020-08-06  2495.331249\n",
       "2020-08-07  1911.499766\n",
       "2020-08-08  1226.124179\n",
       "2020-08-09  1706.106721\n",
       "2020-08-10  2623.331130\n",
       "2020-08-11  2700.019086\n",
       "2020-08-12  2673.555100\n",
       "2020-08-13  2525.519795\n",
       "2020-08-14  1944.331312\n",
       "2020-08-15  1260.711192\n",
       "2020-08-16  1741.591135\n",
       "2020-08-17  2658.930160\n",
       "2020-08-18  2735.068400\n",
       "2020-08-19  2707.547705"
      ]
     },
     "execution_count": 16,
     "metadata": {},
     "output_type": "execute_result"
    }
   ],
   "source": [
    "prophetForecast2 = fcastProphet[['ds', 'yhat']].iloc[-len(test_data):]\n",
    "prophetForecast2.set_index('ds', inplace = True)\n",
    "prophetForecast2.index.name = 'Date'\n",
    "prophetForecast2.columns = ['Prophet']\n",
    "prophetForecast2.index.freq = 'D'\n",
    "prophetForecast2"
   ]
  },
  {
   "cell_type": "code",
   "execution_count": 17,
   "metadata": {},
   "outputs": [
    {
     "data": {
      "text/plain": [
       "0.12622839895747606"
      ]
     },
     "execution_count": 17,
     "metadata": {},
     "output_type": "execute_result"
    }
   ],
   "source": [
    "mean_absolute_percentage_error(test_data, prophetForecast2['Prophet'])"
   ]
  },
  {
   "cell_type": "markdown",
   "metadata": {},
   "source": [
    "### Plotting all of the best models"
   ]
  },
  {
   "cell_type": "code",
   "execution_count": 18,
   "metadata": {},
   "outputs": [
    {
     "data": {
      "text/plain": [
       "<AxesSubplot:xlabel='Date'>"
      ]
     },
     "execution_count": 18,
     "metadata": {},
     "output_type": "execute_result"
    },
    {
     "data": {
      "image/png": "[encoded data removed]",
      "text/plain": [
       "<Figure size 432x288 with 1 Axes>"
      ]
     },
     "metadata": {
      "needs_background": "light"
     },
     "output_type": "display_data"
    }
   ],
   "source": [
    "test_data.plot(legend = True)\n",
    "fcastHoltWinter2.plot(legend = True)\n",
    "fcastSARIMA2.plot(legend = True)\n",
    "prophetForecast2['Prophet'].plot(legend = True)"
   ]
  },
  {
   "cell_type": "markdown",
   "metadata": {},
   "source": [
    "##### Even though the MAPE were really big, the forecasts don't look too bad."
   ]
  },
  {
   "cell_type": "markdown",
   "metadata": {},
   "source": [
    "### Final forecast for 30 days into the future"
   ]
  },
  {
   "cell_type": "code",
   "execution_count": 19,
   "metadata": {},
   "outputs": [
    {
     "name": "stderr",
     "output_type": "stream",
     "text": [
      "c:\\Users\\Rudy\\anaconda3\\lib\\site-packages\\statsmodels\\tsa\\holtwinters\\model.py:427: FutureWarning: After 0.13 initialization must be handled at model creation\n",
      "  warnings.warn(\n",
      "c:\\Users\\Rudy\\anaconda3\\lib\\site-packages\\statsmodels\\tsa\\holtwinters\\model.py:920: ConvergenceWarning: Optimization failed to converge. Check mle_retvals.\n",
      "  warnings.warn(\n",
      "c:\\Users\\Rudy\\anaconda3\\lib\\site-packages\\statsmodels\\tsa\\base\\tsa_model.py:132: FutureWarning: The 'freq' argument in Timestamp is deprecated and will be removed in a future version.\n",
      "  date_key = Timestamp(key, freq=base_index.freq)\n",
      "c:\\Users\\Rudy\\anaconda3\\lib\\site-packages\\statsmodels\\tsa\\statespace\\sarimax.py:978: UserWarning: Non-invertible starting MA parameters found. Using zeros as starting parameters.\n",
      "  warn('Non-invertible starting MA parameters found.'\n",
      "INFO:prophet:Disabling daily seasonality. Run prophet with daily_seasonality=True to override this.\n"
     ]
    }
   ],
   "source": [
    "#Holt-Winter's method\n",
    "fitHoltWinter2 = ExponentialSmoothing(df1, trend = 'add', seasonal = 'add', seasonal_periods = 7).fit()\n",
    "fcastHoltWinter2 = fitHoltWinter2.forecast(30).rename(\"Holt-Winter's predict\")\n",
    "\n",
    "#SARIMA\n",
    "fitSARIMA2 = SARIMAX(df1, order = (0, 1, 2), seasonal_order = (1, 0, 2, 7)).fit()\n",
    "start = len(df1)\n",
    "end = start + 29\n",
    "fcastSARIMA2 = fitSARIMA2.predict(start = start, end = end, dynamic = False).rename('SARIMA')\n",
    "\n",
    "#Prophet\n",
    "data = df1.reset_index()[['Date', 'First.Time.Visits']]\n",
    "data.columns = ['ds', 'y']\n",
    "fitProphet = Prophet(weekly_seasonality = True)\n",
    "fitProphet.fit(data)\n",
    "future = fitProphet.make_future_dataframe(30)\n",
    "fcastProphet = fitProphet.predict(future)\n",
    "\n",
    "#going back to normal dataframe from prophet\n",
    "prophetForecast2 = fcastProphet[['ds', 'yhat']].iloc[-30:]\n",
    "prophetForecast2.set_index('ds', inplace = True)\n",
    "prophetForecast2.index.name = 'Date'\n",
    "prophetForecast2.columns = ['Prophet']\n",
    "prophetForecast2.index.freq = 'D'"
   ]
  },
  {
   "cell_type": "code",
   "execution_count": 20,
   "metadata": {},
   "outputs": [
    {
     "data": {
      "text/plain": [
       "<AxesSubplot:xlabel='Date'>"
      ]
     },
     "execution_count": 20,
     "metadata": {},
     "output_type": "execute_result"
    },
    {
     "data": {
      "image/png": "[encoded data removed]",
      "text/plain": [
       "<Figure size 432x288 with 1 Axes>"
      ]
     },
     "metadata": {
      "needs_background": "light"
     },
     "output_type": "display_data"
    }
   ],
   "source": [
    "df1.tail(365).plot(legend = True)\n",
    "fcastHoltWinter2.plot(legend = True)\n",
    "fcastSARIMA2.plot(legend = True)\n",
    "prophetForecast2['Prophet'].plot(legend = True)"
   ]
  }
 ],
 "metadata": {
  "interpreter": {
   "hash": "5677aaa8b34c3910b169768a372bbe73d30c6da2d513ea3316285c9a352b0062"
  },
  "kernelspec": {
   "display_name": "Python 3.9.7 ('base')",
   "language": "python",
   "name": "python3"
  },
  "language_info": {
   "codemirror_mode": {
    "name": "ipython",
    "version": 3
   },
   "file_extension": ".py",
   "mimetype": "text/x-python",
   "name": "python",
   "nbconvert_exporter": "python",
   "pygments_lexer": "ipython3",
   "version": "3.9.7"
  },
  "orig_nbformat": 4
 },
 "nbformat": 4,
 "nbformat_minor": 2
}
