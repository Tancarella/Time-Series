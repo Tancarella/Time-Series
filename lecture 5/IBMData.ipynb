{
 "cells": [
  {
   "cell_type": "markdown",
   "id": "cc2852ec",
   "metadata": {},
   "source": [
    "#### In this notebook we read IBM stock data from Yahoo website. After, reindexing the dataframe, we calculate the log of returns to get the stationary time series."
   ]
  },
  {
   "cell_type": "code",
   "execution_count": 1,
   "id": "4bb746d0",
   "metadata": {},
   "outputs": [],
   "source": [
    "import numpy as np\n",
    "import pandas as pd\n",
    "import matplotlib.pyplot as plt "
   ]
  },
  {
   "cell_type": "code",
   "execution_count": 2,
   "id": "ed857b0d",
   "metadata": {},
   "outputs": [],
   "source": [
    "# don't forget to install the package\n",
    "import pandas_datareader as pdr"
   ]
  },
  {
   "cell_type": "code",
   "execution_count": 3,
   "id": "6d6a2468",
   "metadata": {},
   "outputs": [],
   "source": [
    "from statsmodels.stats.diagnostic import acorr_ljungbox\n",
    "from statsmodels.tsa.stattools import adfuller, kpss"
   ]
  },
  {
   "cell_type": "code",
   "execution_count": 4,
   "id": "cc859cc1",
   "metadata": {},
   "outputs": [],
   "source": [
    "data_source='yahoo'\n",
    "start_date='2007-01-03'\n",
    "end_date='2021-12-30'\n",
    "dfIBM=pdr.DataReader('IBM',data_source,start_date,end_date)"
   ]
  },
  {
   "cell_type": "code",
   "execution_count": 5,
   "id": "d214d266",
   "metadata": {},
   "outputs": [
    {
     "data": {
      "text/html": [
       "<div>\n",
       "<style scoped>\n",
       "    .dataframe tbody tr th:only-of-type {\n",
       "        vertical-align: middle;\n",
       "    }\n",
       "\n",
       "    .dataframe tbody tr th {\n",
       "        vertical-align: top;\n",
       "    }\n",
       "\n",
       "    .dataframe thead th {\n",
       "        text-align: right;\n",
       "    }\n",
       "</style>\n",
       "<table border=\"1\" class=\"dataframe\">\n",
       "  <thead>\n",
       "    <tr style=\"text-align: right;\">\n",
       "      <th></th>\n",
       "      <th>High</th>\n",
       "      <th>Low</th>\n",
       "      <th>Open</th>\n",
       "      <th>Close</th>\n",
       "      <th>Volume</th>\n",
       "      <th>Adj Close</th>\n",
       "    </tr>\n",
       "    <tr>\n",
       "      <th>Date</th>\n",
       "      <th></th>\n",
       "      <th></th>\n",
       "      <th></th>\n",
       "      <th></th>\n",
       "      <th></th>\n",
       "      <th></th>\n",
       "    </tr>\n",
       "  </thead>\n",
       "  <tbody>\n",
       "    <tr>\n",
       "      <th>2007-01-03</th>\n",
       "      <td>94.072655</td>\n",
       "      <td>92.026772</td>\n",
       "      <td>92.906311</td>\n",
       "      <td>92.992355</td>\n",
       "      <td>9619853.0</td>\n",
       "      <td>57.683769</td>\n",
       "    </tr>\n",
       "    <tr>\n",
       "      <th>2007-01-04</th>\n",
       "      <td>94.445503</td>\n",
       "      <td>92.619499</td>\n",
       "      <td>92.973228</td>\n",
       "      <td>93.986618</td>\n",
       "      <td>11008627.0</td>\n",
       "      <td>58.300503</td>\n",
       "    </tr>\n",
       "    <tr>\n",
       "      <th>2007-01-05</th>\n",
       "      <td>93.642448</td>\n",
       "      <td>92.648186</td>\n",
       "      <td>93.307838</td>\n",
       "      <td>93.135757</td>\n",
       "      <td>7553480.0</td>\n",
       "      <td>57.772720</td>\n",
       "    </tr>\n",
       "    <tr>\n",
       "      <th>2007-01-08</th>\n",
       "      <td>95.124283</td>\n",
       "      <td>94.024857</td>\n",
       "      <td>94.168259</td>\n",
       "      <td>94.550667</td>\n",
       "      <td>10815640.0</td>\n",
       "      <td>58.650398</td>\n",
       "    </tr>\n",
       "    <tr>\n",
       "      <th>2007-01-09</th>\n",
       "      <td>95.917786</td>\n",
       "      <td>94.713196</td>\n",
       "      <td>94.722755</td>\n",
       "      <td>95.669212</td>\n",
       "      <td>11619177.0</td>\n",
       "      <td>59.344242</td>\n",
       "    </tr>\n",
       "    <tr>\n",
       "      <th>2007-01-10</th>\n",
       "      <td>94.694077</td>\n",
       "      <td>93.623329</td>\n",
       "      <td>94.168259</td>\n",
       "      <td>94.541107</td>\n",
       "      <td>9147061.0</td>\n",
       "      <td>58.644459</td>\n",
       "    </tr>\n",
       "    <tr>\n",
       "      <th>2007-01-11</th>\n",
       "      <td>95.506691</td>\n",
       "      <td>94.168259</td>\n",
       "      <td>94.646271</td>\n",
       "      <td>94.311661</td>\n",
       "      <td>8368732.0</td>\n",
       "      <td>58.502117</td>\n",
       "    </tr>\n",
       "    <tr>\n",
       "      <th>2007-01-12</th>\n",
       "      <td>95.305923</td>\n",
       "      <td>94.168259</td>\n",
       "      <td>94.636711</td>\n",
       "      <td>94.971321</td>\n",
       "      <td>6941779.0</td>\n",
       "      <td>58.911339</td>\n",
       "    </tr>\n",
       "    <tr>\n",
       "      <th>2007-01-16</th>\n",
       "      <td>96.405357</td>\n",
       "      <td>94.933075</td>\n",
       "      <td>95.028679</td>\n",
       "      <td>96.386230</td>\n",
       "      <td>10043901.0</td>\n",
       "      <td>59.788975</td>\n",
       "    </tr>\n",
       "    <tr>\n",
       "      <th>2007-01-17</th>\n",
       "      <td>96.462715</td>\n",
       "      <td>95.506691</td>\n",
       "      <td>96.261948</td>\n",
       "      <td>95.621414</td>\n",
       "      <td>8577932.0</td>\n",
       "      <td>59.314598</td>\n",
       "    </tr>\n",
       "  </tbody>\n",
       "</table>\n",
       "</div>"
      ],
      "text/plain": [
       "                 High        Low       Open      Close      Volume  Adj Close\n",
       "Date                                                                         \n",
       "2007-01-03  94.072655  92.026772  92.906311  92.992355   9619853.0  57.683769\n",
       "2007-01-04  94.445503  92.619499  92.973228  93.986618  11008627.0  58.300503\n",
       "2007-01-05  93.642448  92.648186  93.307838  93.135757   7553480.0  57.772720\n",
       "2007-01-08  95.124283  94.024857  94.168259  94.550667  10815640.0  58.650398\n",
       "2007-01-09  95.917786  94.713196  94.722755  95.669212  11619177.0  59.344242\n",
       "2007-01-10  94.694077  93.623329  94.168259  94.541107   9147061.0  58.644459\n",
       "2007-01-11  95.506691  94.168259  94.646271  94.311661   8368732.0  58.502117\n",
       "2007-01-12  95.305923  94.168259  94.636711  94.971321   6941779.0  58.911339\n",
       "2007-01-16  96.405357  94.933075  95.028679  96.386230  10043901.0  59.788975\n",
       "2007-01-17  96.462715  95.506691  96.261948  95.621414   8577932.0  59.314598"
      ]
     },
     "execution_count": 5,
     "metadata": {},
     "output_type": "execute_result"
    }
   ],
   "source": [
    "dfIBM.head(10)"
   ]
  },
  {
   "cell_type": "code",
   "execution_count": 6,
   "id": "59abd4d3",
   "metadata": {},
   "outputs": [
    {
     "name": "stdout",
     "output_type": "stream",
     "text": [
      "<class 'pandas.core.frame.DataFrame'>\n",
      "DatetimeIndex: 3776 entries, 2007-01-03 to 2021-12-30\n",
      "Data columns (total 6 columns):\n",
      " #   Column     Non-Null Count  Dtype  \n",
      "---  ------     --------------  -----  \n",
      " 0   High       3776 non-null   float64\n",
      " 1   Low        3776 non-null   float64\n",
      " 2   Open       3776 non-null   float64\n",
      " 3   Close      3776 non-null   float64\n",
      " 4   Volume     3776 non-null   float64\n",
      " 5   Adj Close  3776 non-null   float64\n",
      "dtypes: float64(6)\n",
      "memory usage: 206.5 KB\n"
     ]
    }
   ],
   "source": [
    "# frequency is not set\n",
    "dfIBM.info()"
   ]
  },
  {
   "cell_type": "code",
   "execution_count": 7,
   "id": "6eaa8abe",
   "metadata": {},
   "outputs": [],
   "source": [
    "idx=pd.date_range(dfIBM.index[0],dfIBM.index[-1])\n",
    "dfIBM=dfIBM.reindex(idx,method='ffill')"
   ]
  },
  {
   "cell_type": "code",
   "execution_count": 8,
   "id": "d605fca1",
   "metadata": {},
   "outputs": [
    {
     "data": {
      "text/html": [
       "<div>\n",
       "<style scoped>\n",
       "    .dataframe tbody tr th:only-of-type {\n",
       "        vertical-align: middle;\n",
       "    }\n",
       "\n",
       "    .dataframe tbody tr th {\n",
       "        vertical-align: top;\n",
       "    }\n",
       "\n",
       "    .dataframe thead th {\n",
       "        text-align: right;\n",
       "    }\n",
       "</style>\n",
       "<table border=\"1\" class=\"dataframe\">\n",
       "  <thead>\n",
       "    <tr style=\"text-align: right;\">\n",
       "      <th></th>\n",
       "      <th>High</th>\n",
       "      <th>Low</th>\n",
       "      <th>Open</th>\n",
       "      <th>Close</th>\n",
       "      <th>Volume</th>\n",
       "      <th>Adj Close</th>\n",
       "    </tr>\n",
       "  </thead>\n",
       "  <tbody>\n",
       "    <tr>\n",
       "      <th>2007-01-03</th>\n",
       "      <td>94.072655</td>\n",
       "      <td>92.026772</td>\n",
       "      <td>92.906311</td>\n",
       "      <td>92.992355</td>\n",
       "      <td>9619853.0</td>\n",
       "      <td>57.683769</td>\n",
       "    </tr>\n",
       "    <tr>\n",
       "      <th>2007-01-04</th>\n",
       "      <td>94.445503</td>\n",
       "      <td>92.619499</td>\n",
       "      <td>92.973228</td>\n",
       "      <td>93.986618</td>\n",
       "      <td>11008627.0</td>\n",
       "      <td>58.300503</td>\n",
       "    </tr>\n",
       "    <tr>\n",
       "      <th>2007-01-05</th>\n",
       "      <td>93.642448</td>\n",
       "      <td>92.648186</td>\n",
       "      <td>93.307838</td>\n",
       "      <td>93.135757</td>\n",
       "      <td>7553480.0</td>\n",
       "      <td>57.772720</td>\n",
       "    </tr>\n",
       "    <tr>\n",
       "      <th>2007-01-06</th>\n",
       "      <td>93.642448</td>\n",
       "      <td>92.648186</td>\n",
       "      <td>93.307838</td>\n",
       "      <td>93.135757</td>\n",
       "      <td>7553480.0</td>\n",
       "      <td>57.772720</td>\n",
       "    </tr>\n",
       "    <tr>\n",
       "      <th>2007-01-07</th>\n",
       "      <td>93.642448</td>\n",
       "      <td>92.648186</td>\n",
       "      <td>93.307838</td>\n",
       "      <td>93.135757</td>\n",
       "      <td>7553480.0</td>\n",
       "      <td>57.772720</td>\n",
       "    </tr>\n",
       "    <tr>\n",
       "      <th>2007-01-08</th>\n",
       "      <td>95.124283</td>\n",
       "      <td>94.024857</td>\n",
       "      <td>94.168259</td>\n",
       "      <td>94.550667</td>\n",
       "      <td>10815640.0</td>\n",
       "      <td>58.650398</td>\n",
       "    </tr>\n",
       "    <tr>\n",
       "      <th>2007-01-09</th>\n",
       "      <td>95.917786</td>\n",
       "      <td>94.713196</td>\n",
       "      <td>94.722755</td>\n",
       "      <td>95.669212</td>\n",
       "      <td>11619177.0</td>\n",
       "      <td>59.344242</td>\n",
       "    </tr>\n",
       "    <tr>\n",
       "      <th>2007-01-10</th>\n",
       "      <td>94.694077</td>\n",
       "      <td>93.623329</td>\n",
       "      <td>94.168259</td>\n",
       "      <td>94.541107</td>\n",
       "      <td>9147061.0</td>\n",
       "      <td>58.644459</td>\n",
       "    </tr>\n",
       "    <tr>\n",
       "      <th>2007-01-11</th>\n",
       "      <td>95.506691</td>\n",
       "      <td>94.168259</td>\n",
       "      <td>94.646271</td>\n",
       "      <td>94.311661</td>\n",
       "      <td>8368732.0</td>\n",
       "      <td>58.502117</td>\n",
       "    </tr>\n",
       "    <tr>\n",
       "      <th>2007-01-12</th>\n",
       "      <td>95.305923</td>\n",
       "      <td>94.168259</td>\n",
       "      <td>94.636711</td>\n",
       "      <td>94.971321</td>\n",
       "      <td>6941779.0</td>\n",
       "      <td>58.911339</td>\n",
       "    </tr>\n",
       "  </tbody>\n",
       "</table>\n",
       "</div>"
      ],
      "text/plain": [
       "                 High        Low       Open      Close      Volume  Adj Close\n",
       "2007-01-03  94.072655  92.026772  92.906311  92.992355   9619853.0  57.683769\n",
       "2007-01-04  94.445503  92.619499  92.973228  93.986618  11008627.0  58.300503\n",
       "2007-01-05  93.642448  92.648186  93.307838  93.135757   7553480.0  57.772720\n",
       "2007-01-06  93.642448  92.648186  93.307838  93.135757   7553480.0  57.772720\n",
       "2007-01-07  93.642448  92.648186  93.307838  93.135757   7553480.0  57.772720\n",
       "2007-01-08  95.124283  94.024857  94.168259  94.550667  10815640.0  58.650398\n",
       "2007-01-09  95.917786  94.713196  94.722755  95.669212  11619177.0  59.344242\n",
       "2007-01-10  94.694077  93.623329  94.168259  94.541107   9147061.0  58.644459\n",
       "2007-01-11  95.506691  94.168259  94.646271  94.311661   8368732.0  58.502117\n",
       "2007-01-12  95.305923  94.168259  94.636711  94.971321   6941779.0  58.911339"
      ]
     },
     "execution_count": 8,
     "metadata": {},
     "output_type": "execute_result"
    }
   ],
   "source": [
    "dfIBM.head(10)"
   ]
  },
  {
   "cell_type": "code",
   "execution_count": 9,
   "id": "f0a0277c",
   "metadata": {},
   "outputs": [
    {
     "name": "stdout",
     "output_type": "stream",
     "text": [
      "<class 'pandas.core.frame.DataFrame'>\n",
      "DatetimeIndex: 5476 entries, 2007-01-03 to 2021-12-30\n",
      "Freq: D\n",
      "Data columns (total 6 columns):\n",
      " #   Column     Non-Null Count  Dtype  \n",
      "---  ------     --------------  -----  \n",
      " 0   High       5476 non-null   float64\n",
      " 1   Low        5476 non-null   float64\n",
      " 2   Open       5476 non-null   float64\n",
      " 3   Close      5476 non-null   float64\n",
      " 4   Volume     5476 non-null   float64\n",
      " 5   Adj Close  5476 non-null   float64\n",
      "dtypes: float64(6)\n",
      "memory usage: 299.5 KB\n"
     ]
    }
   ],
   "source": [
    "dfIBM.info()"
   ]
  },
  {
   "cell_type": "code",
   "execution_count": 10,
   "id": "9bba6d42",
   "metadata": {},
   "outputs": [
    {
     "data": {
      "text/plain": [
       "<AxesSubplot:>"
      ]
     },
     "execution_count": 10,
     "metadata": {},
     "output_type": "execute_result"
    },
    {
     "data": {
      "image/png": "[encoded data removed]",
      "text/plain": [
       "<Figure size 864x576 with 1 Axes>"
      ]
     },
     "metadata": {
      "needs_background": "light"
     },
     "output_type": "display_data"
    }
   ],
   "source": [
    "plt.rc(\"figure\", figsize=(12,8))\n",
    "dfIBM['Adj Close'].plot()"
   ]
  },
  {
   "cell_type": "markdown",
   "id": "402edf78",
   "metadata": {},
   "source": [
    "#### We first take the logarithm of time series and then we difference it. From the basic property of logarithm function it follows that in this way we calculate the logarithm of the returns (ratio of the consecutive terms)."
   ]
  },
  {
   "cell_type": "code",
   "execution_count": 11,
   "id": "a983fe28",
   "metadata": {},
   "outputs": [],
   "source": [
    "df=np.log(dfIBM['Adj Close']).diff().dropna()"
   ]
  },
  {
   "cell_type": "code",
   "execution_count": 12,
   "id": "27bc1a76",
   "metadata": {},
   "outputs": [
    {
     "data": {
      "image/png": "[encoded data removed]",
      "text/plain": [
       "<Figure size 864x576 with 1 Axes>"
      ]
     },
     "metadata": {
      "needs_background": "light"
     },
     "output_type": "display_data"
    }
   ],
   "source": [
    "df.plot();"
   ]
  },
  {
   "cell_type": "code",
   "execution_count": 13,
   "id": "67fa7916",
   "metadata": {},
   "outputs": [
    {
     "data": {
      "text/plain": [
       "(-19.715271706976274,\n",
       " 0.0,\n",
       " 13,\n",
       " 5461,\n",
       " {'1%': -3.431548018029579,\n",
       "  '5%': -2.862069404259016,\n",
       "  '10%': -2.567051800837696},\n",
       " -32263.017903737025)"
      ]
     },
     "execution_count": 13,
     "metadata": {},
     "output_type": "execute_result"
    }
   ],
   "source": [
    "adfuller(df)"
   ]
  },
  {
   "cell_type": "markdown",
   "id": "1a26bfe5",
   "metadata": {},
   "source": [
    "#### Thus, the log of returns time series is stationary."
   ]
  }
 ],
 "metadata": {
  "kernelspec": {
   "display_name": "Python 3 (ipykernel)",
   "language": "python",
   "name": "python3"
  },
  "language_info": {
   "codemirror_mode": {
    "name": "ipython",
    "version": 3
   },
   "file_extension": ".py",
   "mimetype": "text/x-python",
   "name": "python",
   "nbconvert_exporter": "python",
   "pygments_lexer": "ipython3",
   "version": "3.9.2"
  }
 },
 "nbformat": 4,
 "nbformat_minor": 5
}
